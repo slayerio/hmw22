{
 "cells": [
  {
   "cell_type": "code",
   "execution_count": 17,
   "id": "51cceceb-0950-46a4-a573-41b6b4b0dea5",
   "metadata": {},
   "outputs": [],
   "source": [
    "import numpy as np"
   ]
  },
  {
   "cell_type": "code",
   "execution_count": 18,
   "id": "0740f500-b07f-4579-b8e2-ece4e6c97f02",
   "metadata": {},
   "outputs": [
    {
     "name": "stdout",
     "output_type": "stream",
     "text": [
      "1 2 3 4 5 6 7 8 9 10 "
     ]
    }
   ],
   "source": [
    "for i in range(1,11):\n",
    "    print(i,end=' ')"
   ]
  },
  {
   "cell_type": "code",
   "execution_count": 19,
   "id": "fa601950-7042-494e-a138-46bda44960f3",
   "metadata": {},
   "outputs": [
    {
     "name": "stdout",
     "output_type": "stream",
     "text": [
      "[2 4 5]\n"
     ]
    }
   ],
   "source": [
    "array = np.array([2, 4, 5])\n",
    "print(array)"
   ]
  },
  {
   "cell_type": "markdown",
   "id": "653ce37d-371b-4d36-a60c-a8243da19206",
   "metadata": {},
   "source": [
    "<h1 style=\"color: red;\">שאלות ותשובות</h1>\n",
    "<h2 style=\"color: red;\">1. מהו Data Science?</h2>\n",
    "<p>Data Science הוא תחום העוסק בניתוח נתונים.</p>\n",
    "<h2 style=\"color: red;\">2. מה ההבדל בין Structured ל-Unstructured Data?</h2>\n",
    "<p>- Structured Data: נתונים מאורגנים.<br>- Unstructured Data: נתונים לא מאורגנים.</p>\n",
    "<h2 style=\"color: red;\">3. מהו Exploratory Data Analysis?</h2>\n",
    "<p>זהו תהליך חקירת נתונים ע\"י זיהוי דפוסים, חריגות וקשרים בין משתנים בצורה ויזואלית וסטטיסטית</p>\n",
    "<h2 style=\"color: red;\">4.אילו 2 מטרות ננסה להשיג באמצעות Data Science בחברות עסקיות?</h2>\n",
    "<p>שיפור ויעילות קבלת החלטות- כדי לשפר את חוויית הלקוח והמשתמש</p>\n",
    "<h2 style=\"color: red;\">5.מהו GEN AI TOOLS?</h2>\n",
    "<p>כלים ליצירה אוט' של וידאו, טקסטים, סאונד, תמונות עם מודלים גנרטיביים (כמו צ'אט GPT)</p>\n",
    "<h2 style=\"color: red;\">6.באילו 3 ספריות Python נשתמש לעבודה עם מידע?</h2>\n",
    "<p>numpy- מערכים וקלילות מתמטית, pandas- עיבוד וניתוח בטבלאות, seaborn- גרפים ויזואליים</p>\n"
   ]
  },
  {
   "cell_type": "markdown",
   "id": "d3275026-ccfa-465c-b326-8b8806008949",
   "metadata": {},
   "source": [
    "![תמונה יפה מאוד. מי ידע שבלי הסוגריים המרובעים זה לא יתן לי להראות את התמונה](https://toolai.co/storage/2023/05/ChatGPT-head.jpg)"
   ]
  },
  {
   "cell_type": "code",
   "execution_count": null,
   "id": "cc9b835c-3ca6-4d61-bb24-339bb848a5a7",
   "metadata": {},
   "outputs": [],
   "source": []
  }
 ],
 "metadata": {
  "kernelspec": {
   "display_name": "Python 3 (ipykernel)",
   "language": "python",
   "name": "python3"
  },
  "language_info": {
   "codemirror_mode": {
    "name": "ipython",
    "version": 3
   },
   "file_extension": ".py",
   "mimetype": "text/x-python",
   "name": "python",
   "nbconvert_exporter": "python",
   "pygments_lexer": "ipython3",
   "version": "3.12.7"
  }
 },
 "nbformat": 4,
 "nbformat_minor": 5
}
